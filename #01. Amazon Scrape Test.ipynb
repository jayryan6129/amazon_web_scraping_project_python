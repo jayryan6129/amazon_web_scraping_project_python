{
 "cells": [
  {
   "cell_type": "code",
   "execution_count": 479,
   "id": "50cdc2d0",
   "metadata": {},
   "outputs": [],
   "source": [
    "from bs4 import BeautifulSoup\n",
    "import requests\n",
    "import pandas as pd\n",
    "import time"
   ]
  },
  {
   "cell_type": "code",
   "execution_count": null,
   "id": "a51b74d0",
   "metadata": {},
   "outputs": [],
   "source": [
    "# URL to scrape\n",
    "URL = \"https://www.amazon.com/s?k=Playstation+5&crid=AD6T2XKRHCWQ&sprefix=playstation+5%2Caps%2C283&ref=nb_sb_noss_1\""
   ]
  },
  {
   "cell_type": "code",
   "execution_count": null,
   "id": "e36985de",
   "metadata": {},
   "outputs": [],
   "source": [
    "# Define headers to mimic a browser visit\n",
    "HEADERS = {'User-Agent': 'Mozilla/5.0 (Windows NT 10.0; Win64; x64) AppleWebKit/537.36 (KHTML, like Gecko) Chrome/58.0.3029.110 Safari/537.3', 'Accept-Language': 'en-US, en;q=0.5'}"
   ]
  },
  {
   "cell_type": "code",
   "execution_count": null,
   "id": "796dd7a0",
   "metadata": {},
   "outputs": [],
   "source": [
    "# Function to fetch a webpage with retries\n",
    "def fetch_page(url, retries=5, delay=5):\n",
    "    for attempt in range(1, retries + 1):\n",
    "        try:\n",
    "            response = requests.get(url, headers=HEADERS, timeout=10)\n",
    "            if response.status_code == 200:\n",
    "                return response.text\n",
    "            else:\n",
    "                print(f\"Attempt {attempt}: Status code {response.status_code}\")\n",
    "        except requests.exceptions.RequestException as e:\n",
    "            print(f\"Attempt {attempt}: Error {e}\")\n",
    "        time.sleep(delay)\n",
    "    return None"
   ]
  },
  {
   "cell_type": "code",
   "execution_count": null,
   "id": "60a105d1",
   "metadata": {},
   "outputs": [
    {
     "name": "stdout",
     "output_type": "stream",
     "text": [
      "Page fetched successfully!\n"
     ]
    }
   ],
   "source": [
    "# Fetch the page and parse it if successful or unable to fetch\n",
    "html = fetch_page(URL)\n",
    "if html:\n",
    "    soup = BeautifulSoup(html, \"html.parser\")\n",
    "    print(\"Page fetched successfully!\")\n",
    "else:\n",
    "    print(\"Failed to fetch the page after multiple attempts.\")"
   ]
  },
  {
   "cell_type": "code",
   "execution_count": null,
   "id": "c5ad2157",
   "metadata": {},
   "outputs": [],
   "source": [
    "# Fetch the page directly\n",
    "webpage = requests.get(URL, headers=HEADERS)"
   ]
  },
  {
   "cell_type": "code",
   "execution_count": null,
   "id": "63d53565",
   "metadata": {},
   "outputs": [],
   "source": [
    "# Parse the webpage content\n",
    "soup = BeautifulSoup(webpage.content, \"html.parser\")"
   ]
  },
  {
   "cell_type": "code",
   "execution_count": null,
   "id": "df5baa1a",
   "metadata": {},
   "outputs": [],
   "source": [
    "# Find all product links\n",
    "links = soup.find_all(\"a\", attrs={'class':'a-link-normal s-line-clamp-2 s-link-style a-text-normal'})"
   ]
  },
  {
   "cell_type": "code",
   "execution_count": null,
   "id": "d6e2edd8",
   "metadata": {},
   "outputs": [],
   "source": [
    "# Get the fourth product link as an example\n",
    "product_list = \"https://www.amazon.com\" + links[3].get('href')"
   ]
  },
  {
   "cell_type": "code",
   "execution_count": null,
   "id": "6d5fd537",
   "metadata": {},
   "outputs": [],
   "source": [
    "# Fetch the new webpage for the selected product\n",
    "new_webpage = requests.get(product_list, headers=HEADERS)"
   ]
  },
  {
   "cell_type": "code",
   "execution_count": null,
   "id": "b521459d",
   "metadata": {},
   "outputs": [],
   "source": [
    "# Parse the new webpage content for the selected product\n",
    "new_soup = BeautifulSoup(new_webpage.content, \"html.parser\")"
   ]
  },
  {
   "cell_type": "code",
   "execution_count": null,
   "id": "d6f1d57e",
   "metadata": {},
   "outputs": [
    {
     "data": {
      "text/plain": [
       "'PlayStation 5 Console (PS5)'"
      ]
     },
     "execution_count": 499,
     "metadata": {},
     "output_type": "execute_result"
    }
   ],
   "source": [
    "# Extract and print the product title from the new page\n",
    "new_soup.find(\"span\", attrs={\"id\":'productTitle'}).text.strip()"
   ]
  },
  {
   "cell_type": "code",
   "execution_count": null,
   "id": "6e463db0",
   "metadata": {},
   "outputs": [
    {
     "data": {
      "text/plain": [
       "'$435.69'"
      ]
     },
     "execution_count": 500,
     "metadata": {},
     "output_type": "execute_result"
    }
   ],
   "source": [
    "# Extract and print the product price from the new page\n",
    "new_soup.find(\"span\", attrs={\"class\":'a-offscreen'}).text.strip()"
   ]
  },
  {
   "cell_type": "code",
   "execution_count": null,
   "id": "2aec6075",
   "metadata": {},
   "outputs": [
    {
     "data": {
      "text/plain": [
       "'4.8 out of 5 stars'"
      ]
     },
     "execution_count": 501,
     "metadata": {},
     "output_type": "execute_result"
    }
   ],
   "source": [
    "# Extract and print the product rating from the new page\n",
    "new_soup.find(\"span\", attrs={\"class\":'a-icon-alt'}).text.strip()"
   ]
  }
 ],
 "metadata": {
  "kernelspec": {
   "display_name": "Python 3",
   "language": "python",
   "name": "python3"
  },
  "language_info": {
   "codemirror_mode": {
    "name": "ipython",
    "version": 3
   },
   "file_extension": ".py",
   "mimetype": "text/x-python",
   "name": "python",
   "nbconvert_exporter": "python",
   "pygments_lexer": "ipython3",
   "version": "3.11.9"
  }
 },
 "nbformat": 4,
 "nbformat_minor": 5
}
